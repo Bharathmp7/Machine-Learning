{
 "cells": [
  {
   "cell_type": "code",
   "execution_count": 34,
   "metadata": {},
   "outputs": [],
   "source": [
    "import numpy as np\n",
    "import matplotlib.pyplot as plt\n",
    "\n",
    "x = [1,2,3]\n",
    "t = [1.2,1.9,3.2]"
   ]
  },
  {
   "cell_type": "code",
   "execution_count": 35,
   "metadata": {},
   "outputs": [],
   "source": [
    "def parameters(x,y):\n",
    "    a = np.sum(x)\n",
    "    b = np.sum(y)\n",
    "    c = np.dot(x,x)\n",
    "    d = np.dot(x,y)\n",
    "    N = len(x)\n",
    "    \n",
    "    w1 = (b*a-d*N)/(a**2 - c*N)\n",
    "    w0 = (d - w1*c)/a\n",
    "    return (w1,w0)"
   ]
  },
  {
   "cell_type": "code",
   "execution_count": 36,
   "metadata": {},
   "outputs": [
    {
     "data": {
      "text/plain": [
       "[<matplotlib.lines.Line2D at 0x10e948a8370>]"
      ]
     },
     "execution_count": 36,
     "metadata": {},
     "output_type": "execute_result"
    },
    {
     "data": {
      "image/png": "[encoded data removed]",
      "text/plain": [
       "<Figure size 432x288 with 1 Axes>"
      ]
     },
     "metadata": {
      "needs_background": "light"
     },
     "output_type": "display_data"
    }
   ],
   "source": [
    "slope,intercept = parameters(x,t)\n",
    "y_eqt = []\n",
    "for i in range(len(x)):\n",
    "    y_eqt.append(slope*x[i] + intercept)\n",
    "plt.scatter(x,t,)\n",
    "plt.plot(x,y_eqt,\"g--\")\n",
    "    "
   ]
  }
 ],
 "metadata": {
  "kernelspec": {
   "display_name": "Python 3",
   "language": "python",
   "name": "python3"
  },
  "language_info": {
   "codemirror_mode": {
    "name": "ipython",
    "version": 3
   },
   "file_extension": ".py",
   "mimetype": "text/x-python",
   "name": "python",
   "nbconvert_exporter": "python",
   "pygments_lexer": "ipython3",
   "version": "3.8.5"
  }
 },
 "nbformat": 4,
 "nbformat_minor": 4
}
